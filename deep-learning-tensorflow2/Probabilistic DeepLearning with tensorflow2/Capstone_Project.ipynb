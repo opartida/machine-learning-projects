{
  "nbformat": 4,
  "nbformat_minor": 0,
  "metadata": {
    "kernelspec": {
      "display_name": "feedforward",
      "language": "python",
      "name": "feedforward"
    },
    "language_info": {
      "codemirror_mode": {
        "name": "ipython",
        "version": 3
      },
      "file_extension": ".py",
      "mimetype": "text/x-python",
      "name": "python",
      "nbconvert_exporter": "python",
      "pygments_lexer": "ipython3",
      "version": "3.6.9"
    },
    "colab": {
      "name": "Capstone_Project.ipynb",
      "provenance": [],
      "collapsed_sections": []
    },
    "accelerator": "GPU"
  },
  "cells": [
    {
      "cell_type": "markdown",
      "metadata": {
        "id": "yskSPNCy56qJ"
      },
      "source": [
        "# Capstone Project\n",
        "## Probabilistic generative models\n",
        "### Instructions\n",
        "\n",
        "In this notebook, you will practice working with generative models, using both normalising flow networks and the variational autoencoder algorithm. You will create a synthetic dataset with a normalising flow with randomised parameters. This dataset will then be used to train a variational autoencoder, and you will used the trained model to interpolate between the generated images. You will use concepts from throughout this course, including Distribution objects, probabilistic layers, bijectors, ELBO optimisation and KL divergence regularisers.\n",
        "\n",
        "This project is peer-assessed. Within this notebook you will find instructions in each section for how to complete the project. Pay close attention to the instructions as the peer review will be carried out according to a grading rubric that checks key parts of the project instructions. Feel free to add extra cells into the notebook as required.\n",
        "\n",
        "### How to submit\n",
        "\n",
        "When you have completed the Capstone project notebook, you will submit a pdf of the notebook for peer review. First ensure that the notebook has been fully executed from beginning to end, and all of the cell outputs are visible. This is important, as the grading rubric depends on the reviewer being able to view the outputs of your notebook. Save the notebook as a pdf (File -> Download as -> PDF via LaTeX). You should then submit this pdf for review.\n",
        "\n",
        "### Let's get started!\n",
        "\n",
        "We'll start by running some imports below. For this project you are free to make further imports throughout the notebook as you wish. "
      ]
    },
    {
      "cell_type": "code",
      "metadata": {
        "id": "UsrsKs5n56qK"
      },
      "source": [
        "import tensorflow as tf\n",
        "import tensorflow_probability as tfp\n",
        "tfd = tfp.distributions\n",
        "tfb = tfp.bijectors\n",
        "tfpl = tfp.layers\n",
        "\n",
        "import numpy as np\n",
        "import matplotlib.pyplot as p\n",
        "import math as m\n",
        "from sklearn.model_selection import train_test_split\n",
        "from matplotlib import gridspec\n",
        "%matplotlib inline"
      ],
      "execution_count": 2,
      "outputs": []
    },
    {
      "cell_type": "markdown",
      "metadata": {
        "id": "-KjnGgAQ56qP"
      },
      "source": [
        "For the capstone project, you will create your own image dataset from contour plots of a transformed distribution using a random normalising flow network. You will then use the variational autoencoder algorithm to train generative and inference networks, and synthesise new images by interpolating in the latent space."
      ]
    },
    {
      "cell_type": "markdown",
      "metadata": {
        "id": "4-hrlc_t56qP"
      },
      "source": [
        "#### The normalising flow\n",
        "* To construct the image dataset, you will build a normalising flow to transform the 2-D Gaussian random variable $z=(z_1, z_2)$, which has mean $\\mathbf{0}$ and covariance matrix $\\Sigma=\\sigma^2\\mathbf{I}_2$, with $\\sigma=0.3$. \n",
        "* This normalising flow uses bijectors that are parameterised by the following random variables:\n",
        "  * $\\theta \\sim U[0, 2\\pi)$\n",
        "  * $a \\sim N(3, 1)$\n",
        "  \n",
        "The complete normalising flow is given by the following chain of transformations:\n",
        "* $f_1(z) = (z_1, z_2 - 2)$,\n",
        "* $f_2(z) = (z_1, \\frac{z_2}{2})$,\n",
        "* $f_3(z) = (z_1, z_2 + az_1^2)$,\n",
        "* $f_4(z) = Rz$, where $R$ is a rotation matrix with angle $\\theta$,\n",
        "* $f_5(z) = \\tanh(z)$, where the $\\tanh$ function is applied elementwise.\n",
        "\n",
        "The transformed random variable $x$ is given by $x = f_5(f_4(f_3(f_2(f_1(z)))))$. \n",
        "* You should use or construct bijectors for each of the transformations $f_i$, $i=1,\\ldots, 5$, and use `tfb.Chain` and `tfb.TransformedDistribution` to construct the final transformed distribution. \n",
        "* Ensure to implement the `log_det_jacobian` methods for any subclassed bijectors that you write.\n",
        "* Display a scatter plot of samples from the base distribution.\n",
        "* Display 4 scatter plot images of the transformed distribution from your random normalising flow, using samples of $\\theta$ and $a$. Fix the axes of these 4 plots to the range $[-1, 1]$."
      ]
    },
    {
      "cell_type": "code",
      "source": [
        "theta_dist = tfd.Uniform(low = 0, high = 2*np.pi)\n",
        "a_dist = tfd.Normal(loc = 3, scale = 1)\n",
        "\n",
        "mu, sigma = 0, 0.3\n",
        "base_dist = tfd.MultivariateNormalDiag(loc = [mu, mu],  scale_diag = [sigma, sigma])"
      ],
      "metadata": {
        "id": "JCaoR4rz7VTb"
      },
      "execution_count": 3,
      "outputs": []
    },
    {
      "cell_type": "code",
      "source": [
        "def getBaseDist():\n",
        "  sigma = 0.3\n",
        "  mvn = tfd.MultivariateNormalDiag(loc=[0., 0.],\n",
        "                                   scale_diag=[sigma, sigma])\n",
        "  return mvn"
      ],
      "metadata": {
        "id": "gTAlN3S0w2u1"
      },
      "execution_count": 4,
      "outputs": []
    },
    {
      "cell_type": "code",
      "metadata": {
        "id": "pPVOd0OF56qQ",
        "outputId": "942a811d-6d98-4782-c6d9-28cb32555a28",
        "colab": {
          "base_uri": "https://localhost:8080/",
          "height": 281
        }
      },
      "source": [
        "n = 1000\n",
        "mvn = getBaseDist()\n",
        "\n",
        "z = mvn.sample(n).numpy().squeeze()\n",
        "p.figure()\n",
        "p.scatter(z[:, 0], z[:, 1])\n",
        "p.title(\"Base Distribution\")\n",
        "p.show()"
      ],
      "execution_count": 5,
      "outputs": [
        {
          "output_type": "display_data",
          "data": {
            "image/png": "[encoded data removed]",
            "text/plain": [
              "<Figure size 432x288 with 1 Axes>"
            ]
          },
          "metadata": {
            "needs_background": "light"
          }
        }
      ]
    },
    {
      "cell_type": "code",
      "metadata": {
        "id": "vsAqaX_H56qT"
      },
      "source": [
        "class Polynomial(tfb.Bijector):\n",
        "    def __init__(self, a, name=\"Polynomial\", **kwargs):\n",
        "        super(Polynomial, self).__init__(forward_min_event_ndims=1, \n",
        "                                         name=name, \n",
        "                                         is_constant_jacobian=True, \n",
        "                                         validate_args=False, \n",
        "                                         **kwargs)\n",
        "        \n",
        "        self.a = tf.cast(a, dtype=tf.float32)\n",
        "\n",
        "    def _forward(self, x):\n",
        "        x = tf.cast(x, dtype=tf.float32)\n",
        "        return tf.concat([x[..., 0:1], \n",
        "                          x[..., 1:] + self.a * tf.square(x[..., 0:1])], axis=-1)\n",
        "    \n",
        "    def _inverse(self, y):\n",
        "        y = tf.cast(y, dtype=tf.float32)\n",
        "        return tf.concat([y[..., 0:1], \n",
        "                          y[..., 1:] - self.a * tf.square(y[..., 0:1])], axis=-1)\n",
        "        \n",
        "    def _forward_log_det_jacobian(self, x):\n",
        "        return tf.constant(0., dtype=x.dtype)"
      ],
      "execution_count": 6,
      "outputs": []
    },
    {
      "cell_type": "code",
      "metadata": {
        "id": "7EuWYCvx56qX"
      },
      "source": [
        "\n",
        "\n",
        "class Rotation(tfb.Bijector):\n",
        "    def __init__(self, theta, name=\"Rotation\", **kwargs):\n",
        "        super(Rotation, self).__init__(name=name, \n",
        "                                       forward_min_event_ndims=1, \n",
        "                                       validate_args=False, \n",
        "                                       **kwargs)\n",
        "        \n",
        "        self.rot_matrix = tf.convert_to_tensor([[tf.cos(theta), -tf.sin(theta)], \n",
        "                                                [tf.sin(theta), tf.cos(theta)]], dtype=tf.float32)\n",
        "\n",
        "    def _forward(self, x):\n",
        "        x = tf.cast(x, dtype=tf.float32)\n",
        "        return tf.linalg.matvec(self.rot_matrix, x)\n",
        "\n",
        "    def _inverse(self, y):\n",
        "        y = tf.cast(y, dtype=tf.float32)\n",
        "        return tf.linalg.matvec(tf.transpose(self.rot_matrix), y)\n",
        "\n",
        "    def _forward_log_det_jacobian(self, x):\n",
        "        return tf.constant(0., dtype=x.dtype)"
      ],
      "execution_count": 7,
      "outputs": []
    },
    {
      "cell_type": "code",
      "metadata": {
        "id": "4SoiVOpn56qa"
      },
      "source": [
        "def createFlow(a, theta):\n",
        "  f1 = tfb.Shift([0, -2])\n",
        "  f2 = tfb.Scale([1, 0.5])\n",
        "  f3 = Polynomial(a)\n",
        "  f4 = Rotation(theta)\n",
        "  f5 = tfb.Tanh()\n",
        "\n",
        "  return tfb.Chain([f5, f4, f3, f2, f1])"
      ],
      "execution_count": 8,
      "outputs": []
    },
    {
      "cell_type": "code",
      "metadata": {
        "id": "zH1Vqffq56qc"
      },
      "source": [
        "def createTransformedDist(theta, a, base_dist):\n",
        "  return tfd.TransformedDistribution(distribution=base_dist,\n",
        "                                     bijector=createFlow(theta, a)) "
      ],
      "execution_count": 9,
      "outputs": []
    },
    {
      "cell_type": "code",
      "source": [
        "\n",
        "p.figure(figsize = (10, 10))\n",
        "\n",
        "base_dist = getBaseDist()\n",
        "colors = ['red', 'green', 'blue', 'yellow']\n",
        "for i, col in enumerate(colors):\n",
        "  theta = theta_dist.sample(1).numpy()[0]\n",
        "  a = a_dist.sample(1).numpy()[0]\n",
        "  transformed_dist = createTransformedDist(theta, a, base_dist)\n",
        "  p.subplot(2, 2, i+1)\n",
        "  samples = transformed_dist.sample(1000).numpy().squeeze()\n",
        "  p.scatter(samples[:,0], samples[:, 1], color=col)\n",
        "  p.title(\"theta = {:.2f}, a = {:.2f}\".format(theta, a))\n",
        "  p.xlim([-1,1])\n",
        "  p.ylim([-1,1])\n",
        "  \n"
      ],
      "metadata": {
        "colab": {
          "base_uri": "https://localhost:8080/",
          "height": 607
        },
        "id": "S1NCqluTuUsM",
        "outputId": "e3459b07-410c-43ad-ce19-0c7f05378f50"
      },
      "execution_count": 10,
      "outputs": [
        {
          "output_type": "display_data",
          "data": {
            "image/png": "[encoded data removed]",
            "text/plain": [
              "<Figure size 720x720 with 4 Axes>"
            ]
          },
          "metadata": {
            "needs_background": "light"
          }
        }
      ]
    },
    {
      "cell_type": "markdown",
      "metadata": {
        "id": "aikdgye756qi"
      },
      "source": [
        "## 2. Create the image dataset\n",
        "* You should now use your random normalising flow to generate an image dataset of contour plots from your random normalising flow network. \n",
        "  * Feel free to get creative and experiment with different architectures to produce different sets of images!\n",
        "* First, display a sample of 4 contour plot images from your normalising flow network using 4 independently sampled sets of parameters. \n",
        "  * You may find the following `get_densities` function useful: this calculates density values for a (batched) Distribution for use in a contour plot. \n",
        "* Your dataset should consist of at least 1000 images, stored in a numpy array of shape `(N, 36, 36, 3)`.  Each image in the dataset should correspond to a contour plot of a transformed distribution from a normalising flow with an independently sampled set of parameters $s, T, S, b$. It will take a few minutes to create the dataset.\n",
        "* As well as the `get_densities` function, the `get_image_array_from_density_values` function will help you to generate the dataset. \n",
        "  * This function creates a numpy array for an image of the contour plot for a given set of density values Z. Feel free to choose your own options for the contour plots.\n",
        "* Display a sample of 20 images from your generated dataset in a figure."
      ]
    },
    {
      "cell_type": "code",
      "metadata": {
        "id": "wJLUk3C-56qj"
      },
      "source": [
        "# Helper function to compute transformed distribution densities\n",
        "\n",
        "X, Y = np.meshgrid(np.linspace(-1, 1, 100), np.linspace(-1, 1, 100))\n",
        "inputs = np.transpose(np.stack((X, Y)), [1, 2, 0])\n",
        "\n",
        "def get_densities(transformed_distribution):\n",
        "    \"\"\"\n",
        "    This function takes a (batched) Distribution object as an argument, and returns a numpy \n",
        "    array Z of shape (batch_shape, 100, 100) of density values, that can be used to make a \n",
        "    contour plot with:\n",
        "    plt.contourf(X, Y, Z[b, ...], cmap='hot', levels=100)\n",
        "    where b is an index into the batch shape.\n",
        "    \"\"\"\n",
        "    batch_shape = transformed_distribution.batch_shape\n",
        "    Z = transformed_distribution.prob(np.expand_dims(inputs, 2))\n",
        "    Z = np.transpose(Z, list(range(2, 2+len(batch_shape))) + [0, 1])\n",
        "    return Z"
      ],
      "execution_count": 11,
      "outputs": []
    },
    {
      "cell_type": "code",
      "metadata": {
        "id": "WVZL7yjL56ql"
      },
      "source": [
        "# Helper function to convert contour plots to numpy arrays\n",
        "\n",
        "import numpy as np\n",
        "from matplotlib.backends.backend_agg import FigureCanvasAgg as FigureCanvas\n",
        "from matplotlib.figure import Figure\n",
        "\n",
        "def get_image_array_from_density_values(Z):\n",
        "    \"\"\"\n",
        "    This function takes a numpy array Z of density values of shape (100, 100)\n",
        "    and returns an integer numpy array of shape (36, 36, 3) of pixel values for an image.\n",
        "    \"\"\"\n",
        "    assert Z.shape == (100, 100)\n",
        "    fig = Figure(figsize=(0.5, 0.5))\n",
        "    canvas = FigureCanvas(fig)\n",
        "    ax = fig.gca()\n",
        "    ax.contourf(X, Y, Z, cmap='hot', levels=100)\n",
        "    ax.axis('off')\n",
        "    fig.tight_layout(pad=0)\n",
        "\n",
        "    ax.margins(0)\n",
        "    fig.canvas.draw()\n",
        "    image_from_plot = np.frombuffer(fig.canvas.tostring_rgb(), dtype=np.uint8)\n",
        "    image_from_plot = image_from_plot.reshape(fig.canvas.get_width_height()[::-1] + (3,))\n",
        "    return image_from_plot"
      ],
      "execution_count": 12,
      "outputs": []
    },
    {
      "cell_type": "code",
      "metadata": {
        "id": "-p3zpaZ-56qn",
        "colab": {
          "base_uri": "https://localhost:8080/",
          "height": 590
        },
        "outputId": "e196567e-9d75-4cdf-d766-ddb2b6ee96e1"
      },
      "source": [
        "p.figure(figsize = (10, 10))\n",
        "for i in range(4):\n",
        "  theta = theta_dist.sample(1).numpy()[0]\n",
        "  a = a_dist.sample(1).numpy()[0]\n",
        "  transformed_dist = createTransformedDist(theta, a, base_dist)\n",
        "  transformed_dist = tfd.BatchReshape(transformed_dist, [1])\n",
        "  p.subplot(2, 2, i+1)\n",
        "  \n",
        "  p.contourf(X, Y, get_densities(transformed_dist).squeeze(), cmap='hot', levels=100)\n",
        "  p.title(\"theta = {:.2f}, a = {:.2f}\".format(theta, a))\n",
        "  p.xlim([-1,1])\n",
        "  p.ylim([-1,1])\n",
        "  p.axis('off')\n",
        "p.show()"
      ],
      "execution_count": 13,
      "outputs": [
        {
          "output_type": "display_data",
          "data": {
            "image/png": "[encoded data removed]",
            "text/plain": [
              "<Figure size 720x720 with 4 Axes>"
            ]
          },
          "metadata": {
            "needs_background": "light"
          }
        }
      ]
    },
    {
      "cell_type": "code",
      "metadata": {
        "id": "faZyfRA956qq",
        "colab": {
          "base_uri": "https://localhost:8080/"
        },
        "outputId": "f14df8ef-cb49-441e-c104-94951c1780f6"
      },
      "source": [
        "num_images = 1000\n",
        "def generateDataset():\n",
        "  images = []\n",
        "  for i in range(num_images):\n",
        "    theta = theta_dist.sample(1).numpy()[0]\n",
        "    a = a_dist.sample(1).numpy()[0]\n",
        "    transformed_dist = createTransformedDist(theta, a, base_dist)\n",
        "    transformed_dist = tfd.BatchReshape(transformed_dist, [1])\n",
        "    Z = get_densities(transformed_dist).squeeze()\n",
        "    image = get_image_array_from_density_values(Z)\n",
        "    images.append(image)\n",
        "\n",
        "  return images\n",
        "\n",
        "images = generateDataset()\n",
        "images = np.array(images)\n",
        "print(images.shape)"
      ],
      "execution_count": 14,
      "outputs": [
        {
          "output_type": "stream",
          "name": "stdout",
          "text": [
            "(1000, 36, 36, 3)\n"
          ]
        }
      ]
    },
    {
      "cell_type": "code",
      "metadata": {
        "id": "Ft0GXLNv56qs",
        "colab": {
          "base_uri": "https://localhost:8080/",
          "height": 846
        },
        "outputId": "478fd42c-f183-493d-c43e-38d83b9cf687"
      },
      "source": [
        "p.figure(figsize = (15, 15))\n",
        "for i in range(20):\n",
        "  idx = np.random.randint(0, 1000)\n",
        "  p.subplot(5, 4, i+1)  \n",
        "  image = images[i, ...]\n",
        "  p.axis('off')\n",
        "  p.imshow(image)\n",
        "p.show()"
      ],
      "execution_count": 15,
      "outputs": [
        {
          "output_type": "display_data",
          "data": {
            "image/png": "[encoded data removed]",
            "text/plain": [
              "<Figure size 1080x1080 with 20 Axes>"
            ]
          },
          "metadata": {
            "needs_background": "light"
          }
        }
      ]
    },
    {
      "cell_type": "code",
      "metadata": {
        "id": "FDj6fanT56qx"
      },
      "source": [
        ""
      ],
      "execution_count": 15,
      "outputs": []
    },
    {
      "cell_type": "code",
      "metadata": {
        "id": "5BHW9fXV56qz"
      },
      "source": [
        ""
      ],
      "execution_count": 15,
      "outputs": []
    },
    {
      "cell_type": "markdown",
      "metadata": {
        "id": "5QPqW20M56q2"
      },
      "source": [
        "## 3. Make `tf.data.Dataset` objects\n",
        "* You should now split your dataset to create `tf.data.Dataset` objects for training and validation data. \n",
        "* Using the `map` method, normalise the pixel values so that they lie between 0 and 1.\n",
        "* These Datasets will be used to train a variational autoencoder (VAE). Use the `map` method to return a tuple of input and output Tensors where the image is duplicated as both input and output.\n",
        "* Randomly shuffle the training Dataset.\n",
        "* Batch both datasets with a batch size of 20, setting `drop_remainder=True`.\n",
        "* Print the `element_spec` property for one of the Dataset objects."
      ]
    },
    {
      "cell_type": "code",
      "metadata": {
        "id": "6wL_vkuG56q2",
        "colab": {
          "base_uri": "https://localhost:8080/"
        },
        "outputId": "ca4f1032-429e-46f5-a36a-6d8730c9f66a"
      },
      "source": [
        "data = images.astype(dtype=np.float32)\n",
        "batch_size = 20\n",
        "train, test = train_test_split(data, train_size=0.8, test_size=0.2)\n",
        "\n",
        "ds_train = tf.data.Dataset.from_tensor_slices(train)\n",
        "ds_train = ds_train.map(lambda t: t/255.0)\n",
        "ds_train = ds_train.map(lambda x: (x, x))\n",
        "ds_train = ds_train.batch(batch_size, drop_remainder=True)\n",
        "ds_train = ds_train.shuffle(buffer_size=1001)\n",
        "\n",
        "ds_test = tf.data.Dataset.from_tensor_slices(test)\n",
        "ds_test = ds_test.map(lambda t: t/255.0)\n",
        "ds_test = ds_test.map(lambda x: (x, x))\n",
        "ds_test = ds_test.batch(batch_size, drop_remainder=True)\n",
        "\n",
        "print(ds_train.element_spec)\n"
      ],
      "execution_count": 16,
      "outputs": [
        {
          "output_type": "stream",
          "name": "stdout",
          "text": [
            "(TensorSpec(shape=(20, 36, 36, 3), dtype=tf.float32, name=None), TensorSpec(shape=(20, 36, 36, 3), dtype=tf.float32, name=None))\n"
          ]
        }
      ]
    },
    {
      "cell_type": "code",
      "metadata": {
        "id": "T7nExteC56q4"
      },
      "source": [
        ""
      ],
      "execution_count": 16,
      "outputs": []
    },
    {
      "cell_type": "code",
      "metadata": {
        "id": "e2ZFWl7e56q6"
      },
      "source": [
        ""
      ],
      "execution_count": 16,
      "outputs": []
    },
    {
      "cell_type": "code",
      "metadata": {
        "id": "_mzMYtCQ56q8"
      },
      "source": [
        ""
      ],
      "execution_count": 16,
      "outputs": []
    },
    {
      "cell_type": "code",
      "metadata": {
        "id": "Zzv8dA2X56q-"
      },
      "source": [
        ""
      ],
      "execution_count": 16,
      "outputs": []
    },
    {
      "cell_type": "code",
      "metadata": {
        "id": "HPZ2v7OW56rA"
      },
      "source": [
        ""
      ],
      "execution_count": 16,
      "outputs": []
    },
    {
      "cell_type": "markdown",
      "metadata": {
        "id": "p07KrrGw56rC"
      },
      "source": [
        "## 4. Build the encoder and decoder networks\n",
        "* You should now create the encoder and decoder for the variational autoencoder algorithm.\n",
        "* You should design these networks yourself, subject to the following constraints:\n",
        "   * The encoder and decoder networks should be built using the `Sequential` class.\n",
        "   * The encoder and decoder networks should use probabilistic layers where necessary to represent distributions.\n",
        "   * The prior distribution should be a zero-mean, isotropic Gaussian (identity covariance matrix).\n",
        "   * The encoder network should add the KL divergence loss to the model.\n",
        "* Print the model summary for the encoder and decoder networks."
      ]
    },
    {
      "cell_type": "code",
      "source": [
        "from tensorflow.keras import Sequential, Model\n",
        "from tensorflow.keras.layers import (Dense, Flatten, Reshape, Concatenate, Conv2D, \n",
        "                                     UpSampling2D, BatchNormalization)\n",
        "tfd = tfp.distributions\n",
        "tfb = tfp.bijectors\n",
        "tfpl = tfp.layers"
      ],
      "metadata": {
        "id": "oXUQjaBgA11g"
      },
      "execution_count": 17,
      "outputs": []
    },
    {
      "cell_type": "code",
      "source": [
        "def get_prior(latent_dim):\n",
        "    prior = tfd.MultivariateNormalDiag(loc = tf.Variable(tf.zeros(latent_dim), dtype=tf.float32),\n",
        "                                       scale_diag = tfp.util.TransformedVariable(initial_value = tf.ones(latent_dim, dtype=tf.float32),\n",
        "                                                                                 bijector = tfb.Softplus(),\n",
        "                                                                                 dtype = tf.float32)\n",
        "                                       )\n",
        "    \n",
        "    return prior"
      ],
      "metadata": {
        "id": "NLp01ta-BawQ"
      },
      "execution_count": 18,
      "outputs": []
    },
    {
      "cell_type": "code",
      "metadata": {
        "id": "cHPLd11t56rD"
      },
      "source": [
        "def get_encoder(latent_dim):\n",
        "    \n",
        "    encoder = Sequential([\n",
        "        Conv2D(32, 4, activation='relu', strides=2, padding='SAME', input_shape=(36, 36, 3)),\n",
        "        BatchNormalization(),\n",
        "        Conv2D(64, 4, activation='relu', strides=2, padding='SAME'),\n",
        "        BatchNormalization(),\n",
        "        Conv2D(128, 4, activation='relu', strides=2, padding='SAME'),\n",
        "        BatchNormalization(),\n",
        "        Conv2D(256, 4, activation='relu', strides=2, padding='SAME'),\n",
        "        BatchNormalization(),\n",
        "        Flatten(),\n",
        "        Dense(tfpl.MultivariateNormalTriL.params_size(latent_dim)),\n",
        "        tfpl.MultivariateNormalTriL(latent_dim),\n",
        "        tfpl.KLDivergenceAddLoss(get_prior(latent_dim), \n",
        "                                 use_exact_kl = False,\n",
        "                                 test_points_fn = lambda q:q.sample(5),\n",
        "                                 test_points_reduce_axis=(0,1))\n",
        "    ])\n",
        "    \n",
        "    return encoder\n",
        "    "
      ],
      "execution_count": 19,
      "outputs": []
    },
    {
      "cell_type": "code",
      "metadata": {
        "id": "5PrB_N6P56rF",
        "colab": {
          "base_uri": "https://localhost:8080/"
        },
        "outputId": "4a74d321-1bca-4933-c2f4-23daa16d42d7"
      },
      "source": [
        "latent_dim = 2\n",
        "encoder = get_encoder(latent_dim)\n",
        "\n",
        "encoder.summary()"
      ],
      "execution_count": 20,
      "outputs": [
        {
          "output_type": "stream",
          "name": "stdout",
          "text": [
            "Model: \"sequential\"\n",
            "_________________________________________________________________\n",
            " Layer (type)                Output Shape              Param #   \n",
            "=================================================================\n",
            " conv2d (Conv2D)             (None, 18, 18, 32)        1568      \n",
            "                                                                 \n",
            " batch_normalization (BatchN  (None, 18, 18, 32)       128       \n",
            " ormalization)                                                   \n",
            "                                                                 \n",
            " conv2d_1 (Conv2D)           (None, 9, 9, 64)          32832     \n",
            "                                                                 \n",
            " batch_normalization_1 (Batc  (None, 9, 9, 64)         256       \n",
            " hNormalization)                                                 \n",
            "                                                                 \n",
            " conv2d_2 (Conv2D)           (None, 5, 5, 128)         131200    \n",
            "                                                                 \n",
            " batch_normalization_2 (Batc  (None, 5, 5, 128)        512       \n",
            " hNormalization)                                                 \n",
            "                                                                 \n",
            " conv2d_3 (Conv2D)           (None, 3, 3, 256)         524544    \n",
            "                                                                 \n",
            " batch_normalization_3 (Batc  (None, 3, 3, 256)        1024      \n",
            " hNormalization)                                                 \n",
            "                                                                 \n",
            " flatten (Flatten)           (None, 2304)              0         \n",
            "                                                                 \n",
            " dense (Dense)               (None, 5)                 11525     \n",
            "                                                                 \n",
            " multivariate_normal_tri_l (  ((None, 2),              0         \n",
            " MultivariateNormalTriL)      (None, 2))                         \n",
            "                                                                 \n",
            " kl_divergence_add_loss (KLD  (None, 2)                4         \n",
            " ivergenceAddLoss)                                               \n",
            "                                                                 \n",
            "=================================================================\n",
            "Total params: 703,593\n",
            "Trainable params: 702,633\n",
            "Non-trainable params: 960\n",
            "_________________________________________________________________\n"
          ]
        }
      ]
    },
    {
      "cell_type": "code",
      "metadata": {
        "id": "t_mhkDIZ56rI"
      },
      "source": [
        "def get_decoder(latent_dim):\n",
        "    \"\"\"\n",
        "    This function should build a CNN decoder model according to the above specification. \n",
        "    The function takes latent_dim as an argument, which should be used to define the model.\n",
        "    Your function should return the decoder model.\n",
        "    \"\"\"\n",
        "    image_dim = (36, 36, 3)\n",
        "    decoder = Sequential([\n",
        "        Dense(4096, activation='relu', input_shape=(latent_dim,)),\n",
        "        Reshape((4, 4, 256)),\n",
        "        UpSampling2D(size=(2, 2)),\n",
        "        Conv2D(128, 3, activation='relu', padding='SAME'),\n",
        "        UpSampling2D(size=(2, 2)),\n",
        "        Conv2D(64, 3, activation='relu', padding='SAME'),\n",
        "        UpSampling2D(size=(2, 2)),\n",
        "        Conv2D(32, 3, activation='relu', padding='SAME'),\n",
        "        UpSampling2D(size=(2, 2)),\n",
        "        Conv2D(128, 3, activation='relu', padding='SAME'),\n",
        "        Conv2D(3, 3, padding='SAME'),\n",
        "        Flatten(),\n",
        "        Dense(tfpl.IndependentBernoulli.params_size(image_dim)),\n",
        "        tfpl.IndependentBernoulli(event_shape=image_dim)\n",
        "    ])\n",
        "    \n",
        "    return decoder"
      ],
      "execution_count": 21,
      "outputs": []
    },
    {
      "cell_type": "code",
      "metadata": {
        "id": "UwDoUUCP56rK",
        "colab": {
          "base_uri": "https://localhost:8080/"
        },
        "outputId": "cb42dc94-782f-4883-efc2-5467f602c9d0"
      },
      "source": [
        "decoder = get_decoder(latent_dim)\n",
        "\n",
        "decoder.summary()"
      ],
      "execution_count": 22,
      "outputs": [
        {
          "output_type": "stream",
          "name": "stdout",
          "text": [
            "Model: \"sequential_1\"\n",
            "_________________________________________________________________\n",
            " Layer (type)                Output Shape              Param #   \n",
            "=================================================================\n",
            " dense_1 (Dense)             (None, 4096)              12288     \n",
            "                                                                 \n",
            " reshape (Reshape)           (None, 4, 4, 256)         0         \n",
            "                                                                 \n",
            " up_sampling2d (UpSampling2D  (None, 8, 8, 256)        0         \n",
            " )                                                               \n",
            "                                                                 \n",
            " conv2d_4 (Conv2D)           (None, 8, 8, 128)         295040    \n",
            "                                                                 \n",
            " up_sampling2d_1 (UpSampling  (None, 16, 16, 128)      0         \n",
            " 2D)                                                             \n",
            "                                                                 \n",
            " conv2d_5 (Conv2D)           (None, 16, 16, 64)        73792     \n",
            "                                                                 \n",
            " up_sampling2d_2 (UpSampling  (None, 32, 32, 64)       0         \n",
            " 2D)                                                             \n",
            "                                                                 \n",
            " conv2d_6 (Conv2D)           (None, 32, 32, 32)        18464     \n",
            "                                                                 \n",
            " up_sampling2d_3 (UpSampling  (None, 64, 64, 32)       0         \n",
            " 2D)                                                             \n",
            "                                                                 \n",
            " conv2d_7 (Conv2D)           (None, 64, 64, 128)       36992     \n",
            "                                                                 \n",
            " conv2d_8 (Conv2D)           (None, 64, 64, 3)         3459      \n",
            "                                                                 \n",
            " flatten_1 (Flatten)         (None, 12288)             0         \n",
            "                                                                 \n",
            " dense_2 (Dense)             (None, 3888)              47779632  \n",
            "                                                                 \n",
            " independent_bernoulli (Inde  ((None, 36, 36, 3),      0         \n",
            " pendentBernoulli)            (None, 36, 36, 3))                 \n",
            "                                                                 \n",
            "=================================================================\n",
            "Total params: 48,219,667\n",
            "Trainable params: 48,219,667\n",
            "Non-trainable params: 0\n",
            "_________________________________________________________________\n"
          ]
        }
      ]
    },
    {
      "cell_type": "code",
      "metadata": {
        "id": "yPUWC9EK56rM"
      },
      "source": [
        ""
      ],
      "execution_count": 22,
      "outputs": []
    },
    {
      "cell_type": "code",
      "metadata": {
        "scrolled": false,
        "id": "YIrSNa3456rP"
      },
      "source": [
        ""
      ],
      "execution_count": 22,
      "outputs": []
    },
    {
      "cell_type": "markdown",
      "metadata": {
        "id": "8PIMn50556rR"
      },
      "source": [
        "## 5. Train the variational autoencoder\n",
        "* You should now train the variational autoencoder. Build the VAE using the `Model` class and the encoder and decoder models. Print the model summary.\n",
        "* Compile the VAE with the negative log likelihood loss and train with the `fit` method, using the training and validation Datasets.\n",
        "* Plot the learning curves for loss vs epoch for both training and validation sets."
      ]
    },
    {
      "cell_type": "code",
      "metadata": {
        "id": "Cg2rpc5D56rS"
      },
      "source": [
        "vae = Model(inputs=encoder.inputs, outputs=decoder(encoder.outputs))"
      ],
      "execution_count": 23,
      "outputs": []
    },
    {
      "cell_type": "code",
      "metadata": {
        "id": "uYwBq3_-56rT"
      },
      "source": [
        "def reconstruction_loss(batch_of_images, decoding_dist):\n",
        "    \"\"\"\n",
        "    This function should compute and return the average expected reconstruction loss,\n",
        "    as defined above.\n",
        "    The function takes batch_of_images (Tensor containing a batch of input images to\n",
        "    the encoder) and decoding_dist (output distribution of decoder after passing the \n",
        "    image batch through the encoder and decoder) as arguments.\n",
        "    The function should return the scalar average expected reconstruction loss.\n",
        "    \"\"\"\n",
        "    return -tf.reduce_sum(decoding_dist.log_prob(batch_of_images))/batch_of_images.shape[0]"
      ],
      "execution_count": 24,
      "outputs": []
    },
    {
      "cell_type": "code",
      "metadata": {
        "scrolled": true,
        "id": "vM60Becq56rW"
      },
      "source": [
        "optimizer = tf.keras.optimizers.Adam(learning_rate=0.005)\n",
        "vae.compile(optimizer=optimizer, loss=reconstruction_loss)"
      ],
      "execution_count": 25,
      "outputs": []
    },
    {
      "cell_type": "code",
      "metadata": {
        "id": "D1uCMyKF56rX",
        "colab": {
          "base_uri": "https://localhost:8080/"
        },
        "outputId": "5824b7c3-35c0-4b75-9c08-daf863720997"
      },
      "source": [
        "history = vae.fit(ds_train, validation_data=ds_test, epochs=40)"
      ],
      "execution_count": 26,
      "outputs": [
        {
          "output_type": "stream",
          "name": "stdout",
          "text": [
            "Epoch 1/40\n",
            "40/40 [==============================] - 19s 90ms/step - loss: 12912.0527 - val_loss: 613.5903\n",
            "Epoch 2/40\n",
            "40/40 [==============================] - 3s 77ms/step - loss: 636.7983 - val_loss: 614.3257\n",
            "Epoch 3/40\n",
            "40/40 [==============================] - 3s 74ms/step - loss: 612.2168 - val_loss: 607.0528\n",
            "Epoch 4/40\n",
            "40/40 [==============================] - 3s 75ms/step - loss: 610.6771 - val_loss: 608.5170\n",
            "Epoch 5/40\n",
            "40/40 [==============================] - 3s 75ms/step - loss: 596.0806 - val_loss: 595.1943\n",
            "Epoch 6/40\n",
            "40/40 [==============================] - 3s 72ms/step - loss: 569.0111 - val_loss: 580.5905\n",
            "Epoch 7/40\n",
            "40/40 [==============================] - 3s 74ms/step - loss: 545.3578 - val_loss: 582.9617\n",
            "Epoch 8/40\n",
            "40/40 [==============================] - 3s 74ms/step - loss: 517.4138 - val_loss: 552.4846\n",
            "Epoch 9/40\n",
            "40/40 [==============================] - 3s 75ms/step - loss: 496.3533 - val_loss: 551.5870\n",
            "Epoch 10/40\n",
            "40/40 [==============================] - 3s 72ms/step - loss: 478.5088 - val_loss: 532.7495\n",
            "Epoch 11/40\n",
            "40/40 [==============================] - 3s 74ms/step - loss: 461.5001 - val_loss: 518.2845\n",
            "Epoch 12/40\n",
            "40/40 [==============================] - 3s 72ms/step - loss: 462.6373 - val_loss: 476.1368\n",
            "Epoch 13/40\n",
            "40/40 [==============================] - 3s 74ms/step - loss: 455.7077 - val_loss: 452.5573\n",
            "Epoch 14/40\n",
            "40/40 [==============================] - 3s 71ms/step - loss: 449.7452 - val_loss: 459.9346\n",
            "Epoch 15/40\n",
            "40/40 [==============================] - 3s 72ms/step - loss: 446.1797 - val_loss: 443.4171\n",
            "Epoch 16/40\n",
            "40/40 [==============================] - 3s 72ms/step - loss: 432.9568 - val_loss: 432.9738\n",
            "Epoch 17/40\n",
            "40/40 [==============================] - 3s 74ms/step - loss: 430.6093 - val_loss: 437.9270\n",
            "Epoch 18/40\n",
            "40/40 [==============================] - 3s 75ms/step - loss: 440.2687 - val_loss: 453.9005\n",
            "Epoch 19/40\n",
            "40/40 [==============================] - 3s 72ms/step - loss: 433.3456 - val_loss: 440.6649\n",
            "Epoch 20/40\n",
            "40/40 [==============================] - 3s 74ms/step - loss: 426.3310 - val_loss: 429.5184\n",
            "Epoch 21/40\n",
            "40/40 [==============================] - 3s 74ms/step - loss: 424.1861 - val_loss: 422.8842\n",
            "Epoch 22/40\n",
            "40/40 [==============================] - 3s 74ms/step - loss: 426.7986 - val_loss: 420.3523\n",
            "Epoch 23/40\n",
            "40/40 [==============================] - 3s 72ms/step - loss: 422.5291 - val_loss: 425.3409\n",
            "Epoch 24/40\n",
            "40/40 [==============================] - 3s 72ms/step - loss: 424.3690 - val_loss: 422.0417\n",
            "Epoch 25/40\n",
            "40/40 [==============================] - 3s 74ms/step - loss: 421.2646 - val_loss: 420.9660\n",
            "Epoch 26/40\n",
            "40/40 [==============================] - 3s 72ms/step - loss: 421.7173 - val_loss: 422.8844\n",
            "Epoch 27/40\n",
            "40/40 [==============================] - 3s 72ms/step - loss: 421.9485 - val_loss: 417.8807\n",
            "Epoch 28/40\n",
            "40/40 [==============================] - 3s 74ms/step - loss: 416.3178 - val_loss: 427.3566\n",
            "Epoch 29/40\n",
            "40/40 [==============================] - 3s 74ms/step - loss: 410.9361 - val_loss: 435.4379\n",
            "Epoch 30/40\n",
            "40/40 [==============================] - 3s 71ms/step - loss: 421.1538 - val_loss: 421.9115\n",
            "Epoch 31/40\n",
            "40/40 [==============================] - 3s 72ms/step - loss: 412.5978 - val_loss: 411.8120\n",
            "Epoch 32/40\n",
            "40/40 [==============================] - 3s 72ms/step - loss: 411.7654 - val_loss: 414.0316\n",
            "Epoch 33/40\n",
            "40/40 [==============================] - 3s 72ms/step - loss: 409.0431 - val_loss: 413.8081\n",
            "Epoch 34/40\n",
            "40/40 [==============================] - 3s 72ms/step - loss: 414.1893 - val_loss: 410.1511\n",
            "Epoch 35/40\n",
            "40/40 [==============================] - 3s 83ms/step - loss: 410.5901 - val_loss: 413.5927\n",
            "Epoch 36/40\n",
            "40/40 [==============================] - 3s 84ms/step - loss: 410.0312 - val_loss: 408.7293\n",
            "Epoch 37/40\n",
            "40/40 [==============================] - 3s 73ms/step - loss: 409.0816 - val_loss: 417.9182\n",
            "Epoch 38/40\n",
            "40/40 [==============================] - 3s 72ms/step - loss: 404.4967 - val_loss: 402.7227\n",
            "Epoch 39/40\n",
            "40/40 [==============================] - 3s 72ms/step - loss: 397.7386 - val_loss: 403.2838\n",
            "Epoch 40/40\n",
            "40/40 [==============================] - 3s 72ms/step - loss: 401.7977 - val_loss: 403.3502\n"
          ]
        }
      ]
    },
    {
      "cell_type": "code",
      "metadata": {
        "id": "JFMGyh2w56rZ",
        "colab": {
          "base_uri": "https://localhost:8080/",
          "height": 281
        },
        "outputId": "b21c67b3-7237-4d8c-c234-e4f7d012d3a2"
      },
      "source": [
        "p.plot(history.history[\"loss\"])\n",
        "p.plot(history.history[\"val_loss\"])\n",
        "p.title(\"Loss Plots\")\n",
        "\n",
        "p.show()"
      ],
      "execution_count": 27,
      "outputs": [
        {
          "output_type": "display_data",
          "data": {
            "image/png": "[encoded data removed]",
            "text/plain": [
              "<Figure size 432x288 with 1 Axes>"
            ]
          },
          "metadata": {
            "needs_background": "light"
          }
        }
      ]
    },
    {
      "cell_type": "code",
      "metadata": {
        "id": "TgSHY5yx56rb"
      },
      "source": [
        ""
      ],
      "execution_count": 27,
      "outputs": []
    },
    {
      "cell_type": "markdown",
      "metadata": {
        "id": "cEpVljtf56rc"
      },
      "source": [
        "## 6. Use the encoder and decoder networks\n",
        "* You can now put your encoder and decoder networks into practice!\n",
        "* Randomly sample 1000 images from the dataset, and pass them through the encoder. Display the embeddings in a scatter plot (project to 2 dimensions if the latent space has dimension higher than two).\n",
        "* Randomly sample 4 images from the dataset and for each image, display the original and reconstructed image from the VAE in a figure.\n",
        "  * Use the mean of the output distribution to display the images.\n",
        "* Randomly sample 6 latent variable realisations from the prior distribution, and display the images in a figure.\n",
        "  * Again use the mean of the output distribution to display the images."
      ]
    },
    {
      "cell_type": "code",
      "metadata": {
        "id": "f_xq1mQp56rd"
      },
      "source": [
        "\n",
        "idx = np.random.choice(np.arange(images.shape[0]), 1000)\n",
        "embeddings = encoder(images[idx]/255.0).mean()"
      ],
      "execution_count": 28,
      "outputs": []
    },
    {
      "cell_type": "code",
      "metadata": {
        "id": "GmnFmFcD56re",
        "colab": {
          "base_uri": "https://localhost:8080/",
          "height": 281
        },
        "outputId": "74610d64-9476-4601-b5b0-7e68d25bbe56"
      },
      "source": [
        "p.figure()\n",
        "p.scatter(embeddings[:, 0], embeddings[:, 1])\n",
        "p.title(\"Embeddings\")\n",
        "p.show()"
      ],
      "execution_count": 29,
      "outputs": [
        {
          "output_type": "display_data",
          "data": {
            "image/png": "[encoded data removed]",
            "text/plain": [
              "<Figure size 432x288 with 1 Axes>"
            ]
          },
          "metadata": {
            "needs_background": "light"
          }
        }
      ]
    },
    {
      "cell_type": "code",
      "metadata": {
        "id": "JmsM0mgz56rg",
        "colab": {
          "base_uri": "https://localhost:8080/",
          "height": 344
        },
        "outputId": "a347e80b-90ac-47a0-d252-16de9b3c07a7"
      },
      "source": [
        "N = 6\n",
        "idx = np.random.choice(np.arange(data.shape[0]), N) \n",
        "reconstructed_images = vae(data[idx]).mean().numpy()\n",
        "p.figure(figsize=(15, 6))\n",
        "for i in range(N):\n",
        "    p.subplot(2, 6, 2*i+1)\n",
        "    p.imshow(data[idx[i]].astype(np.uint8))\n",
        "    p.title(\"Image: {}\".format(i+1))\n",
        "    p.axis(\"off\")\n",
        "\n",
        "    p.subplot(2, 6, 2*i+2)\n",
        "    p.imshow(reconstructed_images[i])\n",
        "    p.title(\"Reconstructed Image: {}\".format(i+1))\n",
        "    p.axis(\"off\")\n",
        "p.show()"
      ],
      "execution_count": 39,
      "outputs": [
        {
          "output_type": "display_data",
          "data": {
            "image/png": "[encoded data removed]",
            "text/plain": [
              "<Figure size 1080x432 with 12 Axes>"
            ]
          },
          "metadata": {
            "needs_background": "light"
          }
        }
      ]
    },
    {
      "cell_type": "code",
      "metadata": {
        "id": "g4LCvmWE56ri",
        "colab": {
          "base_uri": "https://localhost:8080/",
          "height": 343
        },
        "outputId": "5b921199-b309-4895-800e-c601e6a2fcc3"
      },
      "source": [
        "N = 6\n",
        "embeddings = np.random.uniform(-2, 2, (N, latent_dim))\n",
        "reconstructed_images = decoder(embeddings).mean()\n",
        "\n",
        "\n",
        "fig = p.figure(figsize=(14, 6)) \n",
        "gs = gridspec.GridSpec(2, 5) \n",
        "\n",
        "for i in range(2):\n",
        "    for j in range(3):\n",
        "        ax1 = p.subplot(gs[i, 2+j])\n",
        "        ax1.imshow(reconstructed_images[2*i + j])\n",
        "        ax1.set_axis_off()\n",
        "\n",
        "p.show()"
      ],
      "execution_count": 37,
      "outputs": [
        {
          "output_type": "display_data",
          "data": {
            "image/png": "[encoded data removed]",
            "text/plain": [
              "<Figure size 1008x432 with 6 Axes>"
            ]
          },
          "metadata": {
            "needs_background": "light"
          }
        }
      ]
    },
    {
      "cell_type": "code",
      "metadata": {
        "id": "tGwqxi0F56rj"
      },
      "source": [
        ""
      ],
      "execution_count": null,
      "outputs": []
    },
    {
      "cell_type": "code",
      "metadata": {
        "id": "YCP6xDKR56rl"
      },
      "source": [
        ""
      ],
      "execution_count": null,
      "outputs": []
    },
    {
      "cell_type": "markdown",
      "metadata": {
        "id": "NabW618C56rn"
      },
      "source": [
        "## Make a video of latent space interpolation (not assessed)\n",
        "* Just for fun, you can run the code below to create a video of your decoder's generations, depending on the latent space."
      ]
    },
    {
      "cell_type": "code",
      "metadata": {
        "id": "ouHz4kxo56rn"
      },
      "source": [
        "# Function to create animation\n",
        "\n",
        "import matplotlib.animation as anim\n",
        "from IPython.display import HTML\n",
        "\n",
        "\n",
        "def get_animation(latent_size, decoder, interpolation_length=500):\n",
        "    assert latent_size >= 2, \"Latent space must be at least 2-dimensional for plotting\"\n",
        "    fig = plt.figure(figsize=(9, 4))  \n",
        "    ax1 = fig.add_subplot(1,2,1)\n",
        "    ax1.set_xlim([-3, 3])\n",
        "    ax1.set_ylim([-3, 3])\n",
        "    ax1.set_title(\"Latent space\")\n",
        "    ax1.axes.get_xaxis().set_visible(False)\n",
        "    ax1.axes.get_yaxis().set_visible(False)\n",
        "    ax2 = fig.add_subplot(1,2,2)\n",
        "    ax2.set_title(\"Data space\")\n",
        "    ax2.axes.get_xaxis().set_visible(False)\n",
        "    ax2.axes.get_yaxis().set_visible(False)\n",
        "\n",
        "    # initializing a line variable \n",
        "    line, = ax1.plot([], [], marker='o')\n",
        "    img2 = ax2.imshow(np.zeros((36, 36, 3)))\n",
        "\n",
        "    freqs = np.random.uniform(low=0.1, high=0.2, size=(latent_size,))\n",
        "    phases = np.random.randn(latent_size)\n",
        "    input_points = np.arange(interpolation_length)\n",
        "    latent_coords = []\n",
        "    for i in range(latent_size):\n",
        "        latent_coords.append(2 * np.sin((freqs[i]*input_points + phases[i])).astype(np.float32))\n",
        "\n",
        "    def animate(i): \n",
        "        z = tf.constant([coord[i] for coord in latent_coords])\n",
        "        img_out = np.squeeze(decoder(z[np.newaxis, ...]).mean().numpy())\n",
        "        line.set_data(z.numpy()[0], z.numpy()[1])\n",
        "        img2.set_data(np.clip(img_out, 0, 1))\n",
        "        return (line, img2)\n",
        "\n",
        "    return anim.FuncAnimation(fig, animate, frames=interpolation_length, \n",
        "                              repeat=False, blit=True, interval=150)"
      ],
      "execution_count": null,
      "outputs": []
    },
    {
      "cell_type": "code",
      "metadata": {
        "id": "RhdB-6PG56rq"
      },
      "source": [
        "# Create the animation\n",
        "\n",
        "a = get_animation(latent_size, decoder, interpolation_length=200)\n",
        "HTML(a.to_html5_video())"
      ],
      "execution_count": null,
      "outputs": []
    },
    {
      "cell_type": "code",
      "metadata": {
        "id": "8xDpxRKf56rs"
      },
      "source": [
        ""
      ],
      "execution_count": null,
      "outputs": []
    }
  ]
}